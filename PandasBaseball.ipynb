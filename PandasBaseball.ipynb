{
 "cells": [
  {
   "cell_type": "code",
   "execution_count": 18,
   "metadata": {},
   "outputs": [],
   "source": [
    "%matplotlib inline "
   ]
  },
  {
   "cell_type": "code",
   "execution_count": 19,
   "metadata": {},
   "outputs": [],
   "source": [
    "import pandas as pd\n",
    "import matplotlib.pyplot as plt"
   ]
  },
  {
   "cell_type": "code",
   "execution_count": 20,
   "metadata": {},
   "outputs": [],
   "source": [
    "teams = pd.read_csv('./baseballdatabank-master/core/Teams.csv')"
   ]
  },
  {
   "cell_type": "code",
   "execution_count": 21,
   "metadata": {},
   "outputs": [],
   "source": [
    "teams = teams[teams['yearID'] >= 2011]\n",
    "teams = teams[['yearID', 'teamID', 'Rank', 'R', 'RA', 'G', 'W', 'H', 'BB', 'HBP', 'AB', 'SF', 'HR', '2B', '3B']]"
   ]
  },
  {
   "cell_type": "code",
   "execution_count": 22,
   "metadata": {},
   "outputs": [],
   "source": [
    "teams = teams.set_index(['yearID', 'teamID'])"
   ]
  },
  {
   "cell_type": "code",
   "execution_count": 23,
   "metadata": {},
   "outputs": [
    {
     "data": {
      "text/plain": [
       "90"
      ]
     },
     "execution_count": 23,
     "metadata": {},
     "output_type": "execute_result"
    }
   ],
   "source": [
    "teams['W'][2011, 'SLN']\n"
   ]
  },
  {
   "cell_type": "code",
   "execution_count": 24,
   "metadata": {},
   "outputs": [
    {
     "name": "stdout",
     "output_type": "stream",
     "text": [
      "               Rank    R   RA    G    W     H     BB   HBP    AB    SF   HR  \\\n",
      "yearID teamID                                                                 \n",
      "2011   ARI        1  731  662  162   94  1357  531.0  61.0  5421  33.0  172   \n",
      "       ATL        2  641  605  162   89  1345  504.0  28.0  5528  30.0  173   \n",
      "       BAL        5  708  860  162   69  1434  452.0  52.0  5585  43.0  191   \n",
      "       BOS        3  875  737  162   90  1600  578.0  50.0  5710  50.0  203   \n",
      "       CHA        3  654  706  162   79  1387  475.0  84.0  5502  46.0  154   \n",
      "       CHN        5  654  756  162   71  1423  425.0  59.0  5549  35.0  148   \n",
      "       CIN        3  735  720  162   79  1438  535.0  63.0  5612  40.0  183   \n",
      "       CLE        2  704  760  162   80  1380  494.0  65.0  5509  43.0  154   \n",
      "       COL        4  735  774  162   73  1429  555.0  57.0  5544  44.0  163   \n",
      "       DET        1  787  711  162   95  1540  521.0  39.0  5563  58.0  169   \n",
      "       FLO        5  625  702  162   72  1358  542.0  51.0  5508  42.0  149   \n",
      "       HOU        6  615  796  162   56  1442  401.0  46.0  5598  37.0   95   \n",
      "       KCA        4  730  762  162   71  1560  442.0  39.0  5672  57.0  129   \n",
      "       LAA        2  667  633  162   86  1394  442.0  51.0  5513  32.0  155   \n",
      "       LAN        3  644  612  161   82  1395  498.0  45.0  5436  43.0  117   \n",
      "       MIL        1  721  638  162   96  1422  481.0  56.0  5447  44.0  185   \n",
      "       MIN        5  619  804  162   63  1357  440.0  37.0  5487  25.0  103   \n",
      "       NYA        1  867  657  162   97  1452  627.0  74.0  5518  51.0  222   \n",
      "       NYN        4  718  742  162   77  1477  571.0  51.0  5600  48.0  108   \n",
      "       OAK        3  645  679  162   74  1330  509.0  50.0  5452  57.0  114   \n",
      "       PHI        1  713  529  162  102  1409  539.0  56.0  5579  38.0  153   \n",
      "       PIT        4  610  712  162   72  1325  489.0  34.0  5421  44.0  107   \n",
      "       SDN        5  593  611  162   71  1284  501.0  48.0  5417  47.0   91   \n",
      "       SEA        4  556  675  162   67  1263  435.0  37.0  5421  41.0  109   \n",
      "       SFN        2  570  578  162   86  1327  448.0  52.0  5486  43.0  121   \n",
      "       SLN        2  762  692  162   90  1513  542.0  44.0  5532  40.0  162   \n",
      "       TBA        2  707  614  162   91  1324  571.0  73.0  5436  35.0  172   \n",
      "       TEX        1  855  677  162   96  1599  475.0  39.0  5659  49.0  210   \n",
      "       TOR        4  743  761  162   81  1384  525.0  48.0  5559  47.0  186   \n",
      "       WAS        3  624  643  161   80  1319  470.0  65.0  5441  32.0  154   \n",
      "...             ...  ...  ...  ...  ...   ...    ...   ...   ...   ...  ...   \n",
      "2017   ARI        2  812  659  162   93  1405  578.0  54.0  5525  27.0  220   \n",
      "       ATL        3  732  821  162   72  1467  474.0  66.0  5584  32.0  165   \n",
      "       BAL        5  743  841  162   75  1469  392.0  50.0  5650  37.0  232   \n",
      "       BOS        1  785  668  162   93  1461  571.0  53.0  5669  36.0  168   \n",
      "       CHA        4  706  820  162   67  1412  401.0  76.0  5513  33.0  186   \n",
      "       CHN        1  822  695  162   92  1402  622.0  82.0  5496  32.0  223   \n",
      "       CIN        5  753  869  162   68  1390  565.0  72.0  5484  42.0  219   \n",
      "       CLE        1  818  564  162  102  1449  604.0  50.0  5511  45.0  212   \n",
      "       COL        3  824  757  162   87  1510  519.0  44.0  5534  41.0  192   \n",
      "       DET        5  735  894  162   64  1435  503.0  52.0  5556  27.0  187   \n",
      "       HOU        1  896  700  162  101  1581  509.0  70.0  5611  61.0  238   \n",
      "       KCA        3  702  791  162   80  1436  390.0  45.0  5536  37.0  193   \n",
      "       LAA        2  710  709  162   80  1314  523.0  70.0  5415  46.0  186   \n",
      "       LAN        1  770  580  162  104  1347  649.0  64.0  5408  38.0  221   \n",
      "       MIA        2  778  822  162   77  1497  486.0  67.0  5602  41.0  194   \n",
      "       MIL        2  732  697  162   86  1363  547.0  53.0  5467  26.0  224   \n",
      "       MIN        2  815  788  162   85  1444  593.0  46.0  5557  39.0  206   \n",
      "       NYA        2  858  660  162   91  1463  616.0  64.0  5594  56.0  241   \n",
      "       NYN        4  735  863  162   70  1379  529.0  57.0  5510  37.0  224   \n",
      "       OAK        5  739  826  162   75  1344  565.0  43.0  5464  40.0  234   \n",
      "       PHI        5  690  782  162   66  1382  494.0  47.0  5535  36.0  174   \n",
      "       PIT        4  668  731  162   75  1331  519.0  88.0  5458  28.0  151   \n",
      "       SDN        4  604  816  162   71  1251  460.0  53.0  5356  33.0  189   \n",
      "       SEA        3  750  772  162   78  1436  487.0  78.0  5551  35.0  200   \n",
      "       SFN        5  639  776  162   64  1382  467.0  36.0  5551  52.0  128   \n",
      "       SLN        3  761  705  162   83  1402  593.0  65.0  5470  44.0  196   \n",
      "       TBA        3  694  704  162   80  1340  545.0  55.0  5478  48.0  228   \n",
      "       TEX        4  799  816  162   78  1326  544.0  81.0  5430  39.0  237   \n",
      "       TOR        4  693  784  162   76  1320  542.0  51.0  5499  35.0  222   \n",
      "       WAS        1  819  672  162   97  1477  542.0  31.0  5553  45.0  215   \n",
      "\n",
      "                2B  3B  \n",
      "yearID teamID           \n",
      "2011   ARI     293  37  \n",
      "       ATL     244  16  \n",
      "       BAL     273  13  \n",
      "       BOS     352  35  \n",
      "       CHA     252  16  \n",
      "       CHN     285  36  \n",
      "       CIN     264  19  \n",
      "       CLE     290  26  \n",
      "       COL     274  40  \n",
      "       DET     297  34  \n",
      "       FLO     274  30  \n",
      "       HOU     309  28  \n",
      "       KCA     325  41  \n",
      "       LAA     289  34  \n",
      "       LAN     237  28  \n",
      "       MIL     276  31  \n",
      "       MIN     259  25  \n",
      "       NYA     267  33  \n",
      "       NYN     309  39  \n",
      "       OAK     280  29  \n",
      "       PHI     258  38  \n",
      "       PIT     277  35  \n",
      "       SDN     247  42  \n",
      "       SEA     253  22  \n",
      "       SFN     282  24  \n",
      "       SLN     308  22  \n",
      "       TBA     273  37  \n",
      "       TEX     310  32  \n",
      "       TOR     285  34  \n",
      "       WAS     257  22  \n",
      "...            ...  ..  \n",
      "2017   ARI     314  39  \n",
      "       ATL     289  26  \n",
      "       BAL     269  12  \n",
      "       BOS     302  19  \n",
      "       CHA     256  37  \n",
      "       CHN     274  29  \n",
      "       CIN     249  38  \n",
      "       CLE     333  29  \n",
      "       COL     293  38  \n",
      "       DET     289  35  \n",
      "       HOU     346  20  \n",
      "       KCA     260  24  \n",
      "       LAA     251  14  \n",
      "       LAN     312  20  \n",
      "       MIA     271  31  \n",
      "       MIL     267  22  \n",
      "       MIN     286  31  \n",
      "       NYA     266  23  \n",
      "       NYN     286  28  \n",
      "       OAK     305  15  \n",
      "       PHI     287  36  \n",
      "       PIT     249  36  \n",
      "       SDN     227  31  \n",
      "       SEA     281  17  \n",
      "       SFN     290  28  \n",
      "       SLN     284  28  \n",
      "       TBA     226  32  \n",
      "       TEX     255  21  \n",
      "       TOR     269   5  \n",
      "       WAS     311  31  \n",
      "\n",
      "[210 rows x 13 columns]\n"
     ]
    }
   ],
   "source": [
    "print(teams)"
   ]
  },
  {
   "cell_type": "code",
   "execution_count": 27,
   "metadata": {},
   "outputs": [
    {
     "data": {
      "text/plain": [
       "Text(0.5,1,'Distribution of Wins')"
      ]
     },
     "execution_count": 27,
     "metadata": {},
     "output_type": "execute_result"
    },
    {
     "data": {
      "image/png": "[encoded data removed]",
      "text/plain": [
       "<matplotlib.figure.Figure at 0x10e12ea20>"
      ]
     },
     "metadata": {},
     "output_type": "display_data"
    }
   ],
   "source": [
    "plt.hist(teams['W'])\n",
    "plt.xlabel('Wins')\n",
    "plt.title('Distribution of Wins')"
   ]
  },
  {
   "cell_type": "code",
   "execution_count": null,
   "metadata": {},
   "outputs": [],
   "source": []
  }
 ],
 "metadata": {
  "kernelspec": {
   "display_name": "Python 3",
   "language": "python",
   "name": "python3"
  },
  "language_info": {
   "codemirror_mode": {
    "name": "ipython",
    "version": 3
   },
   "file_extension": ".py",
   "mimetype": "text/x-python",
   "name": "python",
   "nbconvert_exporter": "python",
   "pygments_lexer": "ipython3",
   "version": "3.6.4"
  }
 },
 "nbformat": 4,
 "nbformat_minor": 2
}
