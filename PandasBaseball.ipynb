{
 "cells": [
  {
   "cell_type": "code",
   "execution_count": 36,
   "metadata": {},
   "outputs": [],
   "source": [
    "%matplotlib inline "
   ]
  },
  {
   "cell_type": "code",
   "execution_count": 37,
   "metadata": {},
   "outputs": [],
   "source": [
    "import pandas as pd\n",
    "import matplotlib.pyplot as plt"
   ]
  },
  {
   "cell_type": "code",
   "execution_count": 38,
   "metadata": {},
   "outputs": [],
   "source": [
    "teams = pd.read_csv('./baseballdatabank-master/core/Teams.csv')"
   ]
  },
  {
   "cell_type": "code",
   "execution_count": 39,
   "metadata": {},
   "outputs": [],
   "source": [
    "#teams = teams[teams['yearID'] >= 2011]\n",
    "teams = teams[['yearID', 'teamID', 'Rank', 'R', 'RA', 'G', 'W', 'H', 'BB', 'HBP', 'AB', 'SF', 'HR', '2B', '3B']]"
   ]
  },
  {
   "cell_type": "code",
   "execution_count": 40,
   "metadata": {},
   "outputs": [],
   "source": [
    "#teams = teams.set_index(['yearID', 'teamID'])"
   ]
  },
  {
   "cell_type": "code",
   "execution_count": 41,
   "metadata": {},
   "outputs": [],
   "source": [
    "#teams['W'][2011, 'SLN']\n"
   ]
  },
  {
   "cell_type": "code",
   "execution_count": 42,
   "metadata": {},
   "outputs": [
    {
     "name": "stdout",
     "output_type": "stream",
     "text": [
      "      yearID teamID  Rank    R   RA    G    W     H     BB   HBP    AB    SF  \\\n",
      "0       1871    BS1     3  401  303   31   20   426   60.0   NaN  1372   NaN   \n",
      "1       1871    CH1     2  302  241   28   19   323   60.0   NaN  1196   NaN   \n",
      "2       1871    CL1     8  249  341   29   10   328   26.0   NaN  1186   NaN   \n",
      "3       1871    FW1     7  137  243   19    7   178   33.0   NaN   746   NaN   \n",
      "4       1871    NY2     5  302  313   33   16   403   33.0   NaN  1404   NaN   \n",
      "5       1871    PH1     1  376  266   28   21   410   46.0   NaN  1281   NaN   \n",
      "6       1871    RC1     9  231  287   25    4   274   38.0   NaN  1036   NaN   \n",
      "7       1871    TRO     6  351  362   29   13   384   49.0   NaN  1248   NaN   \n",
      "8       1871    WS3     4  310  303   32   15   375   48.0   NaN  1353   NaN   \n",
      "9       1872    BL1     2  617  434   58   35   753   29.0   NaN  2571   NaN   \n",
      "10      1872    BR1     9  152  413   29    3   248   18.0   NaN  1072   NaN   \n",
      "11      1872    BR2     6  237  473   37    9   377   19.0   NaN  1457   NaN   \n",
      "12      1872    BS1     1  521  236   48   39   673   29.0   NaN  2126   NaN   \n",
      "13      1872    CL1     7  174  254   22    6   272   17.0   NaN   943   NaN   \n",
      "14      1872    MID     8  220  348   24    5   275   10.0   NaN  1013   NaN   \n",
      "15      1872    NY2     3  523  362   56   34   670   58.0   NaN  2426   NaN   \n",
      "16      1872    PH1     4  539  349   47   30   679   69.0   NaN  2142   NaN   \n",
      "17      1872    TRO     5  273  191   25   15   330    9.0   NaN  1099   NaN   \n",
      "18      1872    WS3    10   54  140    9    2    91    4.0   NaN   365   NaN   \n",
      "19      1872    WS4    11   80  190   11    0    99    1.0   NaN   451   NaN   \n",
      "20      1873    BL1     3  644  451   57   34   810   43.0   NaN  2560   NaN   \n",
      "21      1873    BL4     9   26  152    6    0    33    NaN   NaN   211   NaN   \n",
      "22      1873    BR2     6  366  549   55   17   588   55.0   NaN  2207   NaN   \n",
      "23      1873    BS1     1  739  460   60   43   933   68.0   NaN  2748   NaN   \n",
      "24      1873    ELI     8   98  299   23    2   204    9.0   NaN   869   NaN   \n",
      "25      1873    NY2     4  424  385   53   29   622   43.0   NaN  2211   NaN   \n",
      "26      1873    PH1     5  474  403   52   28   683   35.0   NaN  2267   NaN   \n",
      "27      1873    PH2     2  526  396   53   36   645   62.0   NaN  2326   NaN   \n",
      "28      1873    WS5     7  283  485   39    8   408   20.0   NaN  1560   NaN   \n",
      "29      1874    BL1     8  227  505   47    9   435   22.0   NaN  1776   NaN   \n",
      "...      ...    ...   ...  ...  ...  ...  ...   ...    ...   ...   ...   ...   \n",
      "2835    2017    ARI     2  812  659  162   93  1405  578.0  54.0  5525  27.0   \n",
      "2836    2017    ATL     3  732  821  162   72  1467  474.0  66.0  5584  32.0   \n",
      "2837    2017    BAL     5  743  841  162   75  1469  392.0  50.0  5650  37.0   \n",
      "2838    2017    BOS     1  785  668  162   93  1461  571.0  53.0  5669  36.0   \n",
      "2839    2017    CHA     4  706  820  162   67  1412  401.0  76.0  5513  33.0   \n",
      "2840    2017    CHN     1  822  695  162   92  1402  622.0  82.0  5496  32.0   \n",
      "2841    2017    CIN     5  753  869  162   68  1390  565.0  72.0  5484  42.0   \n",
      "2842    2017    CLE     1  818  564  162  102  1449  604.0  50.0  5511  45.0   \n",
      "2843    2017    COL     3  824  757  162   87  1510  519.0  44.0  5534  41.0   \n",
      "2844    2017    DET     5  735  894  162   64  1435  503.0  52.0  5556  27.0   \n",
      "2845    2017    HOU     1  896  700  162  101  1581  509.0  70.0  5611  61.0   \n",
      "2846    2017    KCA     3  702  791  162   80  1436  390.0  45.0  5536  37.0   \n",
      "2847    2017    LAA     2  710  709  162   80  1314  523.0  70.0  5415  46.0   \n",
      "2848    2017    LAN     1  770  580  162  104  1347  649.0  64.0  5408  38.0   \n",
      "2849    2017    MIA     2  778  822  162   77  1497  486.0  67.0  5602  41.0   \n",
      "2850    2017    MIL     2  732  697  162   86  1363  547.0  53.0  5467  26.0   \n",
      "2851    2017    MIN     2  815  788  162   85  1444  593.0  46.0  5557  39.0   \n",
      "2852    2017    NYA     2  858  660  162   91  1463  616.0  64.0  5594  56.0   \n",
      "2853    2017    NYN     4  735  863  162   70  1379  529.0  57.0  5510  37.0   \n",
      "2854    2017    OAK     5  739  826  162   75  1344  565.0  43.0  5464  40.0   \n",
      "2855    2017    PHI     5  690  782  162   66  1382  494.0  47.0  5535  36.0   \n",
      "2856    2017    PIT     4  668  731  162   75  1331  519.0  88.0  5458  28.0   \n",
      "2857    2017    SDN     4  604  816  162   71  1251  460.0  53.0  5356  33.0   \n",
      "2858    2017    SEA     3  750  772  162   78  1436  487.0  78.0  5551  35.0   \n",
      "2859    2017    SFN     5  639  776  162   64  1382  467.0  36.0  5551  52.0   \n",
      "2860    2017    SLN     3  761  705  162   83  1402  593.0  65.0  5470  44.0   \n",
      "2861    2017    TBA     3  694  704  162   80  1340  545.0  55.0  5478  48.0   \n",
      "2862    2017    TEX     4  799  816  162   78  1326  544.0  81.0  5430  39.0   \n",
      "2863    2017    TOR     4  693  784  162   76  1320  542.0  51.0  5499  35.0   \n",
      "2864    2017    WAS     1  819  672  162   97  1477  542.0  31.0  5553  45.0   \n",
      "\n",
      "       HR   2B  3B  \n",
      "0       3   70  37  \n",
      "1      10   52  21  \n",
      "2       7   35  40  \n",
      "3       2   19   8  \n",
      "4       1   43  21  \n",
      "5       9   66  27  \n",
      "6       3   44  25  \n",
      "7       6   51  34  \n",
      "8       6   54  26  \n",
      "9      14  106  31  \n",
      "10      0   29   9  \n",
      "11      1   35  10  \n",
      "12      7  107  30  \n",
      "13      0   28   5  \n",
      "14      2   36   9  \n",
      "15      4   87  14  \n",
      "16      4   79  25  \n",
      "17      5   58   8  \n",
      "18      0   10   3  \n",
      "19      0    6   1  \n",
      "20      9  109  40  \n",
      "21      0    1   0  \n",
      "22      6   46  23  \n",
      "23     13  144  44  \n",
      "24      0   25   8  \n",
      "25      5   51  36  \n",
      "26      4   71  21  \n",
      "27      8   83  20  \n",
      "28      2   40  19  \n",
      "29      1   45   7  \n",
      "...   ...  ...  ..  \n",
      "2835  220  314  39  \n",
      "2836  165  289  26  \n",
      "2837  232  269  12  \n",
      "2838  168  302  19  \n",
      "2839  186  256  37  \n",
      "2840  223  274  29  \n",
      "2841  219  249  38  \n",
      "2842  212  333  29  \n",
      "2843  192  293  38  \n",
      "2844  187  289  35  \n",
      "2845  238  346  20  \n",
      "2846  193  260  24  \n",
      "2847  186  251  14  \n",
      "2848  221  312  20  \n",
      "2849  194  271  31  \n",
      "2850  224  267  22  \n",
      "2851  206  286  31  \n",
      "2852  241  266  23  \n",
      "2853  224  286  28  \n",
      "2854  234  305  15  \n",
      "2855  174  287  36  \n",
      "2856  151  249  36  \n",
      "2857  189  227  31  \n",
      "2858  200  281  17  \n",
      "2859  128  290  28  \n",
      "2860  196  284  28  \n",
      "2861  228  226  32  \n",
      "2862  237  255  21  \n",
      "2863  222  269   5  \n",
      "2864  215  311  31  \n",
      "\n",
      "[2865 rows x 15 columns]\n"
     ]
    }
   ],
   "source": [
    "print(teams)"
   ]
  },
  {
   "cell_type": "code",
   "execution_count": 45,
   "metadata": {},
   "outputs": [
    {
     "data": {
      "text/plain": [
       "Text(0.5,1,'Distribution of Wins')"
      ]
     },
     "execution_count": 45,
     "metadata": {},
     "output_type": "execute_result"
    },
    {
     "data": {
      "image/png": "[encoded data removed]",
      "text/plain": [
       "<matplotlib.figure.Figure at 0x112097da0>"
      ]
     },
     "metadata": {},
     "output_type": "display_data"
    }
   ],
   "source": [
    "plt.hist(teams['W'])\n",
    "plt.xlabel('Wins')\n",
    "plt.title('Distribution of Wins')"
   ]
  },
  {
   "cell_type": "code",
   "execution_count": 47,
   "metadata": {},
   "outputs": [
    {
     "data": {
      "text/plain": [
       "Text(0,0.5,'Wins')"
      ]
     },
     "execution_count": 47,
     "metadata": {},
     "output_type": "execute_result"
    },
    {
     "data": {
      "image/png": "[encoded data removed]",
      "text/plain": [
       "<matplotlib.figure.Figure at 0x1125e5e80>"
      ]
     },
     "metadata": {},
     "output_type": "display_data"
    }
   ],
   "source": [
    "plt.scatter(teams['yearID'], teams['W'], s=None, c=None)\n",
    "plt.title('Wins Scatter Plot')\n",
    "plt.xlabel('Year')\n",
    "plt.ylabel('Wins')\n"
   ]
  },
  {
   "cell_type": "code",
   "execution_count": 52,
   "metadata": {},
   "outputs": [],
   "source": [
    "# Create runs per year and games per year dictionaries\n",
    "runs_per_year = {}\n",
    "games_per_year = {}\n",
    "\n",
    "for i, row in teams.iterrows():\n",
    "    year = row['yearID']\n",
    "    runs = row['R']\n",
    "    games = row['G']\n",
    "    if year in runs_per_year:\n",
    "        runs_per_year[year] = runs_per_year[year] + runs\n",
    "        games_per_year[year] = games_per_year[year] + games\n",
    "    else:\n",
    "        runs_per_year[year] = runs\n",
    "        games_per_year[year] = games\n",
    "        \n"
   ]
  },
  {
   "cell_type": "code",
   "execution_count": 50,
   "metadata": {},
   "outputs": [],
   "source": [
    "# Create MLB runs per game (per year) dictionary\n",
    "mlb_runs_per_game = {}\n",
    "for k, v in games_per_year.items():\n",
    "    year = k\n",
    "    games = v\n",
    "    runs = runs_per_year[year]\n",
    "    mlb_runs_per_game[year] = runs / games"
   ]
  },
  {
   "cell_type": "code",
   "execution_count": 51,
   "metadata": {},
   "outputs": [
    {
     "data": {
      "text/plain": [
       "Text(0,0.5,'MLB Runs per Game')"
      ]
     },
     "execution_count": 51,
     "metadata": {},
     "output_type": "execute_result"
    },
    {
     "data": {
      "image/png": "[encoded data removed]",
      "text/plain": [
       "<matplotlib.figure.Figure at 0x11209a860>"
      ]
     },
     "metadata": {},
     "output_type": "display_data"
    }
   ],
   "source": [
    "# Create lists from mlb_runs_per_game dictionary\n",
    "lists = sorted(mlb_runs_per_game.items())\n",
    "x, y = zip(*lists)\n",
    "\n",
    "# Create line plot of Year vs. MLB runs per Game\n",
    "plt.plot(x, y)\n",
    "plt.title('MLB Yearly Runs per Game')\n",
    "plt.xlabel('Year')\n",
    "plt.ylabel('MLB Runs per Game')\n"
   ]
  },
  {
   "cell_type": "code",
   "execution_count": null,
   "metadata": {},
   "outputs": [],
   "source": []
  }
 ],
 "metadata": {
  "kernelspec": {
   "display_name": "Python 3",
   "language": "python",
   "name": "python3"
  },
  "language_info": {
   "codemirror_mode": {
    "name": "ipython",
    "version": 3
   },
   "file_extension": ".py",
   "mimetype": "text/x-python",
   "name": "python",
   "nbconvert_exporter": "python",
   "pygments_lexer": "ipython3",
   "version": "3.6.4"
  }
 },
 "nbformat": 4,
 "nbformat_minor": 2
}
